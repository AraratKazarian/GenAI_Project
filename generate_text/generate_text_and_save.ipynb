{
 "cells": [
  {
   "cell_type": "code",
   "execution_count": 32,
   "id": "0973622d-393a-4cbc-95a8-684b0bdec729",
   "metadata": {},
   "source": [
    "import pandas as pd\n",
    "from transformers import GPT2LMHeadModel, GPT2Tokenizer\n",
    "import torch\n",
    "import warnings\n",
    "warnings.filterwarnings(\"ignore\")"
   ],
   "outputs": []
  },
  {
   "cell_type": "code",
   "execution_count": 34,
   "id": "29009f4c-af2c-4cae-8dbf-9f3434d21275",
   "metadata": {},
   "source": [
    "# Load CSV file\n",
    "df2 = pd.read_csv(\"../fetch_data/wildberries_data.csv\")"
   ],
   "outputs": []
  },
  {
   "cell_type": "code",
   "execution_count": 36,
   "id": "d1ab652d-1526-4ca9-bd49-9273b8e55a0d",
   "metadata": {},
   "source": [
    "# Load GPT-2 model and tokenizer\n",
    "model_name = \"gpt2\"\n",
    "tokenizer = GPT2Tokenizer.from_pretrained(model_name)\n",
    "model = GPT2LMHeadModel.from_pretrained(model_name)\n",
    "tokenizer.pad_token = tokenizer.eos_token"
   ],
   "outputs": []
  },
  {
   "cell_type": "code",
   "execution_count": 24,
   "id": "251c34a5-8177-412e-914b-e2c458d0171b",
   "metadata": {},
   "source": [
    "# Function to generate summary sentence\n",
    "def generate_sentence(row):\n",
    "    row_text = f\"On {row['dt']}, {row['openCardCount']} product cards were opened, {row['addToCartCount']} items were added to the cart, resulting in {row['ordersCount']} orders worth {row['ordersSumRub']} rubles. {row['buyoutsCount']} buyouts occurred, worth {row['buyoutsSumRub']} rubles, with a buyout percentage of {row['buyoutPercent']}%. The add-to-cart conversion rate was {row['addToCartConversion']}%, and the cart-to-order conversion rate was {row['cartToOrderConversion']}%.\"\n",
    "\n",
    "    inputs = tokenizer(row_text, return_tensors=\"pt\", padding=True, truncation=True, max_length=512)\n",
    "    outputs = model.generate(\n",
    "        inputs['input_ids'],\n",
    "        attention_mask=inputs['attention_mask'],\n",
    "        max_length=100,\n",
    "        num_beams=5,\n",
    "        temperature=0.7,\n",
    "        no_repeat_ngram_size=2,\n",
    "        early_stopping=True,\n",
    "        do_sample=True,\n",
    "        pad_token_id=tokenizer.eos_token_id\n",
    "    )\n",
    "    return tokenizer.decode(outputs[0], skip_special_tokens=True).strip().split('\\n')[0]"
   ],
   "outputs": []
  },
  {
   "cell_type": "code",
   "execution_count": 26,
   "id": "f4e10b32-cf68-49a4-9272-5dbe5ba220b4",
   "metadata": {},
   "source": [
    "# Generate sentences\n",
    "df2[\"generated_sentence\"] = df2.apply(generate_sentence, axis=1)"
   ],
   "outputs": []
  },
  {
   "cell_type": "code",
   "execution_count": 28,
   "id": "73097f02-82d9-4a90-ba79-7fb306cf4ebf",
   "metadata": {},
   "source": [
    "# Display the generated sentences\n",
    "for sentence in df2[\"generated_sentence\"]:\n",
    "    print(sentence, \"\\n\")"
   ],
   "outputs": []
  },
  {
   "cell_type": "code",
   "execution_count": 30,
   "id": "ac2ea7b2-6b32-4867-9366-155a2d1fcb54",
   "metadata": {},
   "source": [
    "# Save to text file\n",
    "with open(\"wildberries.txt\", \"w\", encoding=\"utf-8\") as f:\n",
    "    f.write(\"\\n\".join(df2[\"generated_sentence\"].tolist()))\n",
    "\n",
    "print(f\"Generated text saved to 'wildberries.txt'.\")"
   ],
   "outputs": []
  },
  {
   "cell_type": "code",
   "execution_count": null,
   "id": "ebef6dbb-e9c6-4708-b1b3-820b9e140ff9",
   "metadata": {},
   "source": [],
   "outputs": []
  }
 ],
 "metadata": {
  "kernelspec": {
   "display_name": "Python [conda env:base] *",
   "language": "python",
   "name": "conda-base-py"
  },
  "language_info": {
   "codemirror_mode": {
    "name": "ipython",
    "version": 3
   },
   "file_extension": ".py",
   "mimetype": "text/x-python",
   "name": "python",
   "nbconvert_exporter": "python",
   "pygments_lexer": "ipython3",
   "version": "3.12.3"
  }
 },
 "nbformat": 4,
 "nbformat_minor": 5
}
