{
 "cells": [
  {
   "cell_type": "code",
   "execution_count": 32,
   "id": "0973622d-393a-4cbc-95a8-684b0bdec729",
   "metadata": {},
   "outputs": [],
   "source": [
    "import pandas as pd\n",
    "from transformers import GPT2LMHeadModel, GPT2Tokenizer\n",
    "import torch\n",
    "import warnings\n",
    "warnings.filterwarnings(\"ignore\")"
   ]
  },
  {
   "cell_type": "code",
   "execution_count": 34,
   "id": "29009f4c-af2c-4cae-8dbf-9f3434d21275",
   "metadata": {},
   "outputs": [],
   "source": [
    "# Load CSV file\n",
    "df2 = pd.read_csv(\"../fetch_data/wildberries_data.csv\")"
   ]
  },
  {
   "cell_type": "code",
   "execution_count": 36,
   "id": "d1ab652d-1526-4ca9-bd49-9273b8e55a0d",
   "metadata": {},
   "outputs": [],
   "source": [
    "# Load GPT-2 model and tokenizer\n",
    "model_name = \"gpt2\"\n",
    "tokenizer = GPT2Tokenizer.from_pretrained(model_name)\n",
    "model = GPT2LMHeadModel.from_pretrained(model_name)\n",
    "tokenizer.pad_token = tokenizer.eos_token"
   ]
  },
  {
   "cell_type": "code",
   "execution_count": 24,
   "id": "251c34a5-8177-412e-914b-e2c458d0171b",
   "metadata": {},
   "outputs": [],
   "source": [
    "# Function to generate summary sentence\n",
    "def generate_sentence(row):\n",
    "    row_text = f\"On {row['dt']}, {row['openCardCount']} product cards were opened, {row['addToCartCount']} items were added to the cart, resulting in {row['ordersCount']} orders worth {row['ordersSumRub']} rubles. {row['buyoutsCount']} buyouts occurred, worth {row['buyoutsSumRub']} rubles, with a buyout percentage of {row['buyoutPercent']}%. The add-to-cart conversion rate was {row['addToCartConversion']}%, and the cart-to-order conversion rate was {row['cartToOrderConversion']}%.\"\n",
    "\n",
    "    inputs = tokenizer(row_text, return_tensors=\"pt\", padding=True, truncation=True, max_length=512)\n",
    "    outputs = model.generate(\n",
    "        inputs['input_ids'],\n",
    "        attention_mask=inputs['attention_mask'],\n",
    "        max_length=100,\n",
    "        num_beams=5,\n",
    "        temperature=0.7,\n",
    "        no_repeat_ngram_size=2,\n",
    "        early_stopping=True,\n",
    "        do_sample=True,\n",
    "        pad_token_id=tokenizer.eos_token_id\n",
    "    )\n",
    "    return tokenizer.decode(outputs[0], skip_special_tokens=True).strip().split('\\n')[0]"
   ]
  },
  {
   "cell_type": "code",
   "execution_count": 26,
   "id": "f4e10b32-cf68-49a4-9272-5dbe5ba220b4",
   "metadata": {},
   "outputs": [],
   "source": [
    "# Generate sentences\n",
    "df2[\"generated_sentence\"] = df2.apply(generate_sentence, axis=1)"
   ]
  },
  {
   "cell_type": "code",
   "execution_count": 28,
   "id": "73097f02-82d9-4a90-ba79-7fb306cf4ebf",
   "metadata": {},
   "outputs": [
    {
     "name": "stdout",
     "output_type": "stream",
     "text": [
      "On 2025-05-05, 159 product cards were opened, 74 items were added to the cart, resulting in 25 orders worth 5775 rubles. 21 buyouts occurred, worth 4851 rubles, with a buyout percentage of 95%. The add-to-cart conversion rate was 47%, and the cart-to-order conversion rate was 34%. \n",
      "\n",
      "On 2025-05-06, 195 product cards were opened, 79 items were added to the cart, resulting in 21 orders worth 4852 rubles. 12 buyouts occurred, worth 2773 rubles, with a buyout percentage of 100%. The add-to-cart conversion rate was 41%, and the cart-to-order conversion rate was 27%. \n",
      "\n",
      "On 2025-05-07, 167 product cards were opened, 73 items were added to the cart, resulting in 21 orders worth 4851 rubles. 15 buyouts occurred, worth 3465 rubles, with a buyout percentage of 100%. The add-to-cart conversion rate was 44%, and the cart-to-order conversion rate was 29%. \n",
      "\n",
      "On 2025-05-08, 230 product cards were opened, 124 items were added to the cart, resulting in 59 orders worth 10485 rubles. 31 buyouts occurred, worth 5554 rubles, with a buyout percentage of 100%. The add-to-cart conversion rate was 54%, and the cart-to-order conversion rate was 48%. \n",
      "\n",
      "On 2025-05-09, 111 product cards were opened, 39 items were added to the cart, resulting in 10 orders worth 2310 rubles. 3 buyouts occurred, worth 693 rubles, with a buyout percentage of 100%. The add-to-cart conversion rate was 35%, and the cart-to-order conversion rate was 26%. \n",
      "\n",
      "On 2025-05-10, 108 product cards were opened, 42 items were added to the cart, resulting in 21 orders worth 4851 rubles. 3 buyouts occurred, worth 693 rubles, with a buyout percentage of 100%. The add-to-cart conversion rate was 39%, and the cart-to-order conversion rate was 50%. \n",
      "\n",
      "On 2025-05-11, 68 product cards were opened, 29 items were added to the cart, resulting in 11 orders worth 2541 rubles. 0 buyouts occurred, worth 0 rubles, with a buyout percentage of 0%. The add-to-cart conversion rate was 43%, and the cart-to-order conversion rate was 38%. \n",
      "\n",
      "On 2025-05-12, 38 product cards were opened, 11 items were added to the cart, resulting in 1 orders worth 231 rubles. 0 buyouts occurred, worth 0 rubles, with a buyout percentage of 0%. The add-to-cart conversion rate was 29%, and the cart-to-order conversion rate was 9%. \n",
      "\n"
     ]
    }
   ],
   "source": [
    "# Display the generated sentences\n",
    "for sentence in df2[\"generated_sentence\"]:\n",
    "    print(sentence, \"\\n\")"
   ]
  },
  {
   "cell_type": "code",
   "execution_count": 30,
   "id": "ac2ea7b2-6b32-4867-9366-155a2d1fcb54",
   "metadata": {},
   "outputs": [
    {
     "name": "stdout",
     "output_type": "stream",
     "text": [
      "Generated text saved to 'wildberries.txt'.\n"
     ]
    }
   ],
   "source": [
    "# Save to text file\n",
    "with open(\"wildberries.txt\", \"w\", encoding=\"utf-8\") as f:\n",
    "    f.write(\"\\n\".join(df2[\"generated_sentence\"].tolist()))\n",
    "\n",
    "print(f\"Generated text saved to 'wildberries.txt'.\")"
   ]
  },
  {
   "cell_type": "code",
   "execution_count": null,
   "id": "ebef6dbb-e9c6-4708-b1b3-820b9e140ff9",
   "metadata": {},
   "outputs": [],
   "source": []
  }
 ],
 "metadata": {
  "kernelspec": {
   "display_name": "Python [conda env:base] *",
   "language": "python",
   "name": "conda-base-py"
  },
  "language_info": {
   "codemirror_mode": {
    "name": "ipython",
    "version": 3
   },
   "file_extension": ".py",
   "mimetype": "text/x-python",
   "name": "python",
   "nbconvert_exporter": "python",
   "pygments_lexer": "ipython3",
   "version": "3.12.3"
  }
 },
 "nbformat": 4,
 "nbformat_minor": 5
}
